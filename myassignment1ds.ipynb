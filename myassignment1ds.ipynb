{
 "cells": [
  {
   "cell_type": "code",
   "execution_count": 1,
   "id": "f11b722e",
   "metadata": {},
   "outputs": [
    {
     "name": "stdout",
     "output_type": "stream",
     "text": [
      "Keerthi\n"
     ]
    }
   ],
   "source": [
    "str='Keerthi'\n",
    "#string\n",
    "print(str)"
   ]
  },
  {
   "cell_type": "code",
   "execution_count": 2,
   "id": "e4bb6c0d",
   "metadata": {},
   "outputs": [
    {
     "name": "stdout",
     "output_type": "stream",
     "text": [
      "[2, 3, 4.0, 'keer', (1+2j)]\n"
     ]
    }
   ],
   "source": [
    "l=[2,3,4.0,'keer',1+2j]\n",
    "#list\n",
    "print(l)"
   ]
  },
  {
   "cell_type": "code",
   "execution_count": 3,
   "id": "09e2a5cb",
   "metadata": {},
   "outputs": [
    {
     "name": "stdout",
     "output_type": "stream",
     "text": [
      "3.456\n"
     ]
    }
   ],
   "source": [
    "f=3.456 \n",
    "#float\n",
    "print(f)"
   ]
  },
  {
   "cell_type": "code",
   "execution_count": 4,
   "id": "56fab051",
   "metadata": {},
   "outputs": [
    {
     "name": "stdout",
     "output_type": "stream",
     "text": [
      "(2, 3, 4, 'keer')\n"
     ]
    }
   ],
   "source": [
    "t=(2,3,4,'keer','kk')\n",
    "#tuple\n",
    "print(t)"
   ]
  },
  {
   "cell_type": "code",
   "execution_count": 27,
   "id": "c3a1b381",
   "metadata": {},
   "outputs": [
    {
     "name": "stdout",
     "output_type": "stream",
     "text": [
      "<class 'str'>\n",
      "<class 'str'>\n",
      "<class 'list'>\n",
      "<class 'float'>\n"
     ]
    }
   ],
   "source": [
    "var1, var2, var3, var4= '', '[DS,ML,Python]',['DS','ML','Python'],1.\n",
    "print(type(var1))\n",
    "print(type(var2))\n",
    "print(type(var3))\n",
    "print(type(var4))"
   ]
  },
  {
   "cell_type": "code",
   "execution_count": 22,
   "id": "4f16662b",
   "metadata": {},
   "outputs": [
    {
     "name": "stdout",
     "output_type": "stream",
     "text": [
      "1.6666666666666667 2 1 125\n"
     ]
    }
   ],
   "source": [
    "a,b=5,3\n",
    "c,d,e,f=a/b,a%b,a//b,a**b\n",
    "print(c, d, e, f)"
   ]
  },
  {
   "cell_type": "code",
   "execution_count": 23,
   "id": "8d77d400",
   "metadata": {},
   "outputs": [
    {
     "name": "stdout",
     "output_type": "stream",
     "text": [
      "2 <class 'int'>\n",
      "3 <class 'int'>\n",
      "4.5 <class 'float'>\n",
      "6 <class 'int'>\n",
      "keer <class 'str'>\n",
      "kk <class 'str'>\n",
      "(1+2j) <class 'complex'>\n",
      "8 <class 'int'>\n",
      "9 <class 'int'>\n",
      "ten <class 'str'>\n"
     ]
    }
   ],
   "source": [
    "l=[2,3,4.5,6,'keer','kk',1+2j,8,9,'ten']\n",
    "for i in l:\n",
    "    print(i,type(i))"
   ]
  },
  {
   "cell_type": "code",
   "execution_count": 30,
   "id": "92b23920",
   "metadata": {},
   "outputs": [
    {
     "name": "stdout",
     "output_type": "stream",
     "text": [
      "12\n",
      "4\n",
      "12 is divisible by 4\n",
      "3.0\n"
     ]
    }
   ],
   "source": [
    "a=int(input())\n",
    "b=int(input())\n",
    "while a%b==0:\n",
    "    print(a, 'is divisible by', b)\n",
    "    r=a/b\n",
    "    print(r)\n",
    "    break\n",
    "else:\n",
    "    print(a, 'is not divisible by', b )"
   ]
  },
  {
   "cell_type": "code",
   "execution_count": 37,
   "id": "6435bf10",
   "metadata": {},
   "outputs": [
    {
     "name": "stdout",
     "output_type": "stream",
     "text": [
      "10 is not divisible by 3\n",
      "23 is not divisible by 3\n",
      "32 is not divisible by 3\n",
      "42 is divisible by 3\n",
      "54 is divisible by 3\n",
      "6 is divisible by 3\n",
      "7 is not divisible by 3\n",
      "18 is divisible by 3\n",
      "9 is divisible by 3\n",
      "100 is not divisible by 3\n",
      "11 is not divisible by 3\n",
      "12 is divisible by 3\n",
      "131 is not divisible by 3\n",
      "14 is not divisible by 3\n",
      "15 is divisible by 3\n",
      "216 is divisible by 3\n",
      "17 is not divisible by 3\n",
      "128 is not divisible by 3\n",
      "19 is not divisible by 3\n",
      "20 is not divisible by 3\n",
      "215 is not divisible by 3\n",
      "227 is not divisible by 3\n",
      "239 is not divisible by 3\n",
      "245 is not divisible by 3\n",
      "252 is divisible by 3\n"
     ]
    }
   ],
   "source": [
    "l=[10,23,32,42,54,6,7,18,9,100,11,12,131,14,15,216,17,128,19,20,215,227,239,245,252]\n",
    "for i in l:\n",
    "    if(i%3==0):\n",
    "        print(i,'is divisible by 3')\n",
    "    else:\n",
    "        print(i, 'is not divisible by 3')"
   ]
  },
  {
   "cell_type": "code",
   "execution_count": 43,
   "id": "b5373f7a",
   "metadata": {},
   "outputs": [
    {
     "name": "stdout",
     "output_type": "stream",
     "text": [
      "[2, 5, 'kk', 'pwskills', 4.5]\n"
     ]
    }
   ],
   "source": [
    "l=[2,5,'keerthi','pwskills',4.5]\n",
    "l[2]='kk'\n",
    "print(l)\n",
    "#this is an example of mutable property"
   ]
  },
  {
   "cell_type": "code",
   "execution_count": 44,
   "id": "f74eae2b",
   "metadata": {},
   "outputs": [
    {
     "ename": "TypeError",
     "evalue": "'str' object does not support item assignment",
     "output_type": "error",
     "traceback": [
      "\u001b[1;31m---------------------------------------------------------------------------\u001b[0m",
      "\u001b[1;31mTypeError\u001b[0m                                 Traceback (most recent call last)",
      "\u001b[1;32m~\\AppData\\Local\\Temp/ipykernel_14736/1747451859.py\u001b[0m in \u001b[0;36m<module>\u001b[1;34m\u001b[0m\n\u001b[0;32m      1\u001b[0m \u001b[0mstr\u001b[0m\u001b[1;33m=\u001b[0m\u001b[1;34m'keerthi'\u001b[0m\u001b[1;33m\u001b[0m\u001b[1;33m\u001b[0m\u001b[0m\n\u001b[1;32m----> 2\u001b[1;33m \u001b[0mstr\u001b[0m\u001b[1;33m[\u001b[0m\u001b[1;36m3\u001b[0m\u001b[1;33m]\u001b[0m\u001b[1;33m=\u001b[0m\u001b[1;34m'k'\u001b[0m\u001b[1;33m\u001b[0m\u001b[1;33m\u001b[0m\u001b[0m\n\u001b[0m\u001b[0;32m      3\u001b[0m \u001b[1;31m#this is an example of immutable property\u001b[0m\u001b[1;33m\u001b[0m\u001b[1;33m\u001b[0m\u001b[0m\n",
      "\u001b[1;31mTypeError\u001b[0m: 'str' object does not support item assignment"
     ]
    }
   ],
   "source": [
    "str='keerthi'\n",
    "str[3]='k'\n",
    "#this is an example of immutable property"
   ]
  },
  {
   "cell_type": "code",
   "execution_count": null,
   "id": "05445146",
   "metadata": {},
   "outputs": [],
   "source": []
  }
 ],
 "metadata": {
  "kernelspec": {
   "display_name": "Python 3 (ipykernel)",
   "language": "python",
   "name": "python3"
  },
  "language_info": {
   "codemirror_mode": {
    "name": "ipython",
    "version": 3
   },
   "file_extension": ".py",
   "mimetype": "text/x-python",
   "name": "python",
   "nbconvert_exporter": "python",
   "pygments_lexer": "ipython3",
   "version": "3.9.7"
  }
 },
 "nbformat": 4,
 "nbformat_minor": 5
}
